{
 "cells": [
  {
   "cell_type": "code",
   "execution_count": 8,
   "metadata": {},
   "outputs": [
    {
     "name": "stdout",
     "output_type": "stream",
     "text": [
      "2.6666666666666665 , 3.9047619047619047 150.18140589569163 , 0.18140589569162557 , 0.3333333333333333 , 0.09523809523809523\n",
      "2.661627614008566 , 3.903322175431019 150.00552613957618 , 0.005526139576176092 , 0.005039052658100711 , 0.0014397293308859172\n",
      "2.66147411013145 , 3.903278317180414 150.00016964328123 , 0.0001696432812252624 , 0.00015350387711600256 , 4.385825060457216e-05\n"
     ]
    }
   ],
   "source": [
    "# 线性反向传播\n",
    "_z = 12.0\n",
    "w = 3\n",
    "b = 4\n",
    "w_ = 18\n",
    "b_ = 63\n",
    "a = 0\n",
    "while _z >= 0.001:\n",
    "    _w = _z/2/18\n",
    "    _b = _z/2/63\n",
    "    w = w-_w\n",
    "    b = b-_b\n",
    "    x = 2*w+3*b\n",
    "    y = 2*b+1\n",
    "    z = x*y\n",
    "    _z = abs(z-150)\n",
    "    print(w,',',b,z,',',_z,',',_w,',',_b)"
   ]
  },
  {
   "cell_type": "code",
   "execution_count": 15,
   "metadata": {},
   "outputs": [
    {
     "name": "stdout",
     "output_type": "stream",
     "text": [
      "4.243177973676141\n",
      "7.343950354198593\n",
      "9.295385620622595\n",
      "9.655706402390722\n"
     ]
    }
   ],
   "source": [
    "# 非线性反向传播\n",
    "import math\n",
    "import scipy\n",
    "x = 2\n",
    "a = pow(x,2)\n",
    "b = math.log(a)\n",
    "c = math.sqrt(b)\n",
    "y = 2.13\n",
    "_c = c-y\n",
    "_c = abs(_c)\n",
    "while _c >= 0.001:\n",
    "    _b = _c*2*math.sqrt(b)\n",
    "    _a = _b*a\n",
    "    _x = _a/2/x\n",
    "    x = x+_x\n",
    "    a = pow(x,2)\n",
    "    b = math.log(a)\n",
    "    c = math.sqrt(b)\n",
    "    _c = c-y\n",
    "    _c = abs(_c)\n",
    "    print(x)"
   ]
  },
  {
   "cell_type": "code",
   "execution_count": 19,
   "metadata": {},
   "outputs": [
    {
     "name": "stdout",
     "output_type": "stream",
     "text": [
      "0.192\n",
      "0.07680000000000001\n",
      "0.030720000000000004\n",
      "0.012288000000000004\n",
      "0.0049152000000000015\n",
      "0.0019660800000000007\n"
     ]
    }
   ],
   "source": [
    "# 梯度下降\n",
    "x = 1.2\n",
    "y = pow(x,2)\n",
    "y_ = 2*x\n",
    "n = 0.3\n",
    "x = x - n*y_\n",
    "while y_ > 0.01:\n",
    "    y = pow(x,2)\n",
    "    y_ = 2*x\n",
    "    n = 0.3\n",
    "    x = x - n*y_\n",
    "    print(x)"
   ]
  },
  {
   "cell_type": "code",
   "execution_count": 3,
   "metadata": {},
   "outputs": [
    {
     "data": {
      "text/plain": [
       "True"
      ]
     },
     "execution_count": 3,
     "metadata": {},
     "output_type": "execute_result"
    }
   ],
   "source": [
    "~ 1 == -2"
   ]
  }
 ],
 "metadata": {
  "interpreter": {
   "hash": "c9caab46b8264c0954b45c0397329ea128baf936d2fec596749a3532f2c023df"
  },
  "kernelspec": {
   "display_name": "Python 3.9.9 64-bit (system)",
   "language": "python",
   "name": "python3"
  },
  "language_info": {
   "codemirror_mode": {
    "name": "ipython",
    "version": 3
   },
   "file_extension": ".py",
   "mimetype": "text/x-python",
   "name": "python",
   "nbconvert_exporter": "python",
   "pygments_lexer": "ipython3",
   "version": "3.9.9"
  },
  "orig_nbformat": 4
 },
 "nbformat": 4,
 "nbformat_minor": 2
}
