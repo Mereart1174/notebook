{
 "cells": [
  {
   "cell_type": "code",
   "execution_count": null,
   "metadata": {},
   "outputs": [],
   "source": [
    "# 变量·运算符·数据类型\n",
    "\n",
    "# 单行注释 # 多行注释 '''或\"\"\"\n",
    "\n",
    "# 算术运算符：整除 // 取余 % 幂指数 **\n",
    "3 // 7 # 0\n",
    "3 % 7  # 3\n",
    "2 ** 3 # 8\n",
    "# 比较运算符：相等 == 值的比较，地址为is \n",
    "# 逻辑运算符：and or not\n",
    "(1 > 3) or (9 < 2) # False\n",
    "not (2 > 1)        # False\n",
    "# 位运算符：  按位取反 ~ 按位与 & 按位或 ` 按位异或 ^ 左移 <<\n",
    "# 三元运算符\n",
    "x , y = 4 , 5\n",
    "a = x if x < y else y\n",
    "# 其他运算符（成员/身份（id即地址）） 不存在 not in 不是 is not 用于比较地址可变型的变量，如L,D,T\n",
    "x = ['gg']\n",
    "y = ['gg']\n",
    "x is not y # True\n",
    "# 运算符优先级 幂 反 乘除余 加减 位移 & ^| 比较 判断 赋值 身份 成员 逻辑\n",
    "\n",
    "# 数据类型 整浮布\n",
    "# 皆对象object，有属性attributes和方法methods\n",
    "bin(100)    # 查看二进制\n",
    "dir(int)    # 查看对象的方法和属性，无差别的\n",
    "# 内置decimal包调整浮点数精度，decimal小数/的\n",
    "decimal.getcontext().prec = 4 # 默认28，改为4\n",
    "c = Decimal(1) / Decimal(3)   # c = 0.3333"
   ]
  },
  {
   "cell_type": "code",
   "execution_count": null,
   "metadata": {},
   "outputs": [],
   "source": [
    "# 实例方法：在方法内部时，可以访问 实例属性，访问类属性可以使用 类名.类属性\n",
    "# 类 方 法：在方法内部时，只 需要访问 类属性\n",
    "# 静态方法：在方法内部时，不需要访问 实例属性 和 类属性\n",
    "\n",
    "class Game(object):\n",
    "    top_score = 0   # 游戏最高分，类属性\n",
    "\n",
    "    @staticmethod\n",
    "    def show_help():  # 静态方法\n",
    "        print(\"帮助信息：让妹子走进房间\")\n",
    "\n",
    "    @classmethod\n",
    "    def show_top_score(cls):  # 类方法\n",
    "        print(\"游戏最高分是 %d\" % cls.top_score)\n",
    "\n",
    "    def __init__(self, player_name):\n",
    "        self.player_name = player_name  # 实例属性\n",
    "\n",
    "    def start_game(self):  # 实例方法\n",
    "        print(\"[%s] 开始游戏...\" % self.player_name)\n",
    "        \n",
    "        Game.top_score = 999   # 使用类名.修改历史最高分\n",
    "\n",
    "# 1. 查看游戏帮助\n",
    "Game.show_help()\n",
    "\n",
    "# 2. 查看游戏最高分\n",
    "Game.show_top_score()\n",
    "\n",
    "# 3. 创建游戏对象，开始游戏\n",
    "game = Game(\"小明\")\n",
    "game.start_game()\n",
    "\n",
    "# 4. 游戏结束，查看游戏最高分\n",
    "Game.show_top_score()\n",
    "\n",
    "# 以列表dict输出此时Game的属性和方法及方法对应类别，需要本身有__dict__属性，可用dir(Game)查看\n",
    "# vars(Game)\n",
    "dir(Game(object))\n"
   ]
  },
  {
   "cell_type": "code",
   "execution_count": 16,
   "metadata": {},
   "outputs": [
    {
     "data": {
      "text/plain": [
       "'udp://open.tracker.cl:1337/announce,udp://tracker.opentrackr.org:1337/announce,http://tracker.opentrackr.org:1337/announce,udp://9.rarbg.com:2810/announce,udp://tracker.openbittorrent.com:6969/announce,http://tracker.openbittorrent.com:80/announce,http://openbittorrent.com:80/announce,udp://exodus.desync.com:6969/announce,udp://tracker.zerobytes.xyz:1337/announce,udp://tracker.torrent.eu.org:451/announce,udp://tracker.tiny-vps.com:6969/announce,udp://tracker.skyts.net:6969/announce,udp://tracker.dler.org:6969/announce,udp://tracker.bitsearch.to:1337/announce,udp://tracker.altrosky.nl:6969/announce,udp://retracker.lanta-net.ru:2710/announce,udp://opentracker.i2p.rocks:6969/announce,udp://open.tracker.ink:6969/announce,udp://open.stealth.si:80/announce,udp://ipv4.tracker.harry.lu:80/announce,udp://explodie.org:6969/announce,udp://bt2.archive.org:6969/announce,udp://bt1.archive.org:6969/announce,udp://abufinzio.monocul.us:6969/announce,udp://6ahddutb1ucc3cp.ru:6969/announce,https://tracker.nanoha.org:443/announce,https://tracker.lilithraws.org:443/announce,https://tracker.iriseden.fr:443/announce,https://tr.torland.ga:443/announce,https://opentracker.i2p.rocks:443/announce,http://tracker1.bt.moack.co.kr:80/announce,http://tracker.zerobytes.xyz:1337/announce,http://tracker.skyts.net:6969/announce,http://tracker.mywaifu.best:6969/announce,http://tracker.hiyj.cn:80/announce,http://tracker.files.fm:6969/announce,http://tracker.dler.org:6969/announce,http://t.nyaatracker.com:80/announce,http://opentracker.i2p.rocks:6969/announce,http://open.tracker.ink:6969/announce,http://open.acgtracker.com:1096/announce,http://bt.okmp3.ru:2710/announce,udp://vibe.sleepyinternetfun.xyz:1738/announce,udp://tracker4.itzmx.com:2710/announce,udp://tracker2.dler.org:80/announce,udp://tracker1.bt.moack.co.kr:80/announce,udp://tracker.zemoj.com:6969/announce,udp://tracker.theoks.net:6969/announce,udp://tracker.swarm3.network:6969/announce,udp://tracker.srv00.com:6969/announce,udp://tracker.pomf.se:80/announce,udp://tracker.monitorit4.me:6969/announce,udp://tracker.loadbt.com:6969/announce,udp://tracker.lelux.fi:6969/announce,udp://tracker.leech.ie:1337/announce,udp://tracker.jordan.im:6969/announce,udp://tracker.filemail.com:6969/announce,udp://tracker.fatkhoala.org:13710/announce,udp://tracker.edkj.club:6969/announce,udp://tracker.ddunlimited.net:6969/announce,udp://tracker.babico.name.tr:8000/announce,udp://tracker.auctor.tv:6969/announce,udp://tracker.0x.tf:6969/announce,udp://tr.cili001.com:8070/announce,udp://tr.bangumi.moe:6969/announce,udp://torrentclub.space:6969/announce,udp://public.tracker.vraphim.com:6969/announce,udp://public.publictracker.xyz:6969/announce,udp://open.publictracker.xyz:6969/announce,udp://mts.tvbit.co:6969/announce,udp://movies.zsw.ca:6969/announce,udp://leet-tracker.moe:6969/announce,udp://jeremylee.sh:6969/announce,udp://inferno.demonoid.is:3391/announce,udp://fe.dealclub.de:6969/announce,udp://engplus.ru:6969/announce,udp://concen.org:6969/announce,udp://camera.lei001.com:6969/announce,udp://bubu.mapfactor.com:6969/announce,udp://bt.oiyo.tk:6969/announce,udp://bms-hosxp.com:6969/announce,udp://bclearning.top:6969/announce,udp://admin.videoenpoche.info:6969/announce,https://tracker.yarr.pt:443/announce,https://tracker.nitrix.me:443/announce,https://tracker.lelux.fi:443/announce,https://tracker.kuroy.me:443/announce,https://tracker.babico.name.tr:443/announce,https://tr.highstar.shop:443/announce,https://tr.fuckbitcoin.xyz:443/announce,https://tr.doogh.club:443/announce,https://tr.burnabyhighstar.com:443/announce,https://tr.abir.ga:443/announce,https://opentracker.cc:443/announce,https://1337.abcvg.info:443/announce,http://vps02.net.orel.ru:80/announce,http://tracker4.itzmx.com:2710/announce,http://tracker2.dler.org:80/announce,http://tracker.swarm3.network:6969/announce,http://tracker.nucozer-tracker.ml:2710/announce,http://tracker.loadbt.com:6969/announce,http://tracker.lelux.fi:80/announce,http://tracker.corpscorp.online:80/announce,http://tracker.bt4g.com:2095/announce,http://tr.cili001.com:8070/announce,http://torrenttracker.nwc.acsalaska.net:6969/announce,http://t.overflow.biz:6969/announce,http://t.acg.rip:6699/announce,http://pow7.com:80/announce,http://p4p.arenabg.com:1337/announce,http://open.acgnxtracker.com:80/announce,http://home.yxgz.vip:6969/announce,http://fosstorrents.com:6969/announce,http://btracker.top:11451/announce,http://1337.abcvg.info:80/announce,'"
      ]
     },
     "execution_count": 16,
     "metadata": {},
     "output_type": "execute_result"
    }
   ],
   "source": [
    "import pandas as pd\n",
    "\n",
    "file_path = (r\"C:\\Users\\merea\\Desktop\\pdpd.txt\")\n",
    "l = []\n",
    "b = ''\n",
    "with open(file_path,\"r\") as f:\n",
    "    file = f.readlines()\n",
    "for i in file:\n",
    "    if i != '\\n':\n",
    "        l.append(i.split('\\n')[0])\n",
    "for i in l:\n",
    "    a = i\n",
    "    b = b + a + ',' \n",
    "b\n",
    "# with open(r\"C:\\Users\\merea\\Desktop\\pdpd_c.txt\",'a') as fc:\n",
    "#     fc.write(b)\n",
    "\n",
    "\n",
    "    \n",
    "\n"
   ]
  }
 ],
 "metadata": {
  "interpreter": {
   "hash": "c9caab46b8264c0954b45c0397329ea128baf936d2fec596749a3532f2c023df"
  },
  "kernelspec": {
   "display_name": "Python 3.9.9 64-bit (system)",
   "language": "python",
   "name": "python3"
  },
  "language_info": {
   "codemirror_mode": {
    "name": "ipython",
    "version": 3
   },
   "file_extension": ".py",
   "mimetype": "text/x-python",
   "name": "python",
   "nbconvert_exporter": "python",
   "pygments_lexer": "ipython3",
   "version": "3.9.9"
  },
  "orig_nbformat": 4
 },
 "nbformat": 4,
 "nbformat_minor": 2
}
